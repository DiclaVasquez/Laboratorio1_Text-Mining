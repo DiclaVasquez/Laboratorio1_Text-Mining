{
 "cells": [
  {
   "cell_type": "code",
   "execution_count": null,
   "id": "0a1a1927-1dc3-45d0-a4b9-612a6f10c77a",
   "metadata": {},
   "outputs": [],
   "source": [
    "# Importando librerias\n",
    "import cv2\n",
    "import matplotlib.pyplot as plt\n",
    "import numpy as np"
   ]
  },
  {
   "cell_type": "code",
   "execution_count": null,
   "id": "4554fa2b-c93d-4640-9fa1-a901f474efd9",
   "metadata": {},
   "outputs": [],
   "source": [
    "imagen = cv2.imread(\"Sandia.jpg\") #OpenCV lee en BGR\n",
    "imagen = cv2.cvtColor(imagen, cv2.COLOR_BGR2RGB)\n",
    "plt.imshow(imagen)\n",
    "plt.show()"
   ]
  },
  {
   "cell_type": "code",
   "execution_count": null,
   "id": "ecd9f03b-71c8-4b50-9d19-5621aaf2ea4c",
   "metadata": {},
   "outputs": [],
   "source": [
    "# Ejercicio 1\n",
    "imagen2 = cv2.imread(\"Sandia.jpg\")\n",
    "def colores(cod_color,pic):\n",
    "  alto = pic.shape[0]\n",
    "  ancho = pic.shape[1]\n",
    "  pic = cv2.cvtColor(pic, cv2.COLOR_BGR2RGB)\n",
    "  lienzo = np.zeros((alto, ancho, 3))\n",
    "  for i in range(0, alto):\n",
    "    for j in range(0, ancho):\n",
    "        pixel = pic[i, j]\n",
    "        blue = pixel[2]\n",
    "        green = pixel[1]\n",
    "        red = pixel[0]\n",
    "        if cod_color == 1:\n",
    "          lienzo[i, j] = [blue, 0, 0]\n",
    "        elif cod_color == 2:\n",
    "          lienzo[i, j] = [0, green, 0]\n",
    "        elif cod_color == 3:\n",
    "          lienzo[i, j] = [0, 0, red]\n",
    "        elif cod_color == 10:\n",
    "          lienzo[i, j] = [0, green, red]\n",
    "        elif cod_color == 20:\n",
    "          lienzo[i, j] = [blue, green, 0]\n",
    "        elif cod_color == 30:\n",
    "          lienzo[i, j] = [blue, 0, red]\n",
    "\n",
    "   cv2.imwrite(\"Colash.jpg\", lienzo)\n",
    "   Colash = cv2.imread(\"Colash.jpg\")\n",
    "   Colash = cv2.cvtColor(Colash, cv2.COLOR_BGR2RGB)\n",
    "  plt.imshow(Colash) \n",
    "  return plt.show()"
   ]
  },
  {
   "cell_type": "code",
   "execution_count": null,
   "id": "8e3b5c0a-53e2-40ca-a195-770e5150ed0d",
   "metadata": {},
   "outputs": [],
   "source": [
    "#Ejercico 2\n",
    "img1 = cv2.imread(\"imagen1_salida_gray_azul.jpg\") #OpenCV lee en BGR\n",
    "img2 = cv2.imread(\"imagen1_salida_gray_rojo.jpg\") #OpenCV lee en BGR\n",
    "img3 = cv2.imread(\"imagen1_salida_gray_verde.jpg\") #OpenCV lee en BGR\n",
    "\n"
   ]
  },
  {
   "cell_type": "code",
   "execution_count": null,
   "id": "b62f071b-b9a6-4abf-b885-d7c6b46de800",
   "metadata": {},
   "outputs": [],
   "source": [
    "#Crea arreglos que son la base de una imagen\n",
    "img1 = np.zeros((6,8,1),np.uint8)\n",
    "img2 = np.ones((6,8,1),np.uint8)\n",
    "img3 = 200*np.ones((6,8,1),np.uint8)\n",
    "\n"
   ]
  },
  {
   "cell_type": "code",
   "execution_count": null,
   "id": "c3156aac-bf75-4cd4-a7b1-21cdebd0fa43",
   "metadata": {},
   "outputs": [],
   "source": []
  },
  {
   "cell_type": "code",
   "execution_count": null,
   "id": "21dfc5ad-da2c-4fca-962e-f6fd452c5074",
   "metadata": {},
   "outputs": [],
   "source": []
  },
  {
   "cell_type": "code",
   "execution_count": null,
   "id": "9496d7cd-b6c4-4822-bafc-e37fad17968f",
   "metadata": {},
   "outputs": [],
   "source": [
    "# Ejercicio 4\n",
    "img = cv2.imread('Colash.jpg', cv2.IMREAD_GRAYSCALE)\n",
    "cv2.imshow('Colash.jpg', img)\n",
    "\n",
    "hist = cv2.calcHist([img], [0], None, [256], [0, 256])\n",
    "plt.plot(hist, color='gray' )\n",
    "\n",
    "plt.xlabel('intensidad de iluminacion')\n",
    "plt.ylabel('cantidad de pixeles')\n",
    "plt.show()\n",
    "\n",
    "cv2.destroyAllWindows()"
   ]
  },
  {
   "cell_type": "code",
   "execution_count": null,
   "id": "3af13943-8577-47d1-9771-4c18fde7d97e",
   "metadata": {},
   "outputs": [],
   "source": [
    "# ejercicio 5\n",
    "gray_image = cv2.cvtColor(imagen, cv2.COLOR_BGR2GRAY) \n",
    "  \n",
    "cv2.imshow('Grayscale', gray_image) \n",
    "cv2.waitKey(0)   \n",
    "\n",
    "\n",
    "cv2.destroyAllWindows() "
   ]
  },
  {
   "cell_type": "code",
   "execution_count": null,
   "id": "1ec542d3-1b4b-4327-8394-7835c41cd139",
   "metadata": {},
   "outputs": [],
   "source": [
    "# Ejercicio 6"
   ]
  },
  {
   "cell_type": "raw",
   "id": "d69895ae-8c9a-4265-9495-c48fbaa1083a",
   "metadata": {},
   "source": [
    "\n",
    "## El modelo de color HSV\n",
    "\n",
    "En el modelo de color HSV, un color se define por su tono (H), su saturación (S) y su luminosidad (V), por lo que se parece más a la percepción del color humano que a los modelos de color aditivos y sustractivos. Es fácil ajustar un color por su saturación y brillo.\n",
    "\n",
    "• Tono: especifica el tono (color) establecido para el color. El tono se indica como un entero del 0 al 240, ambos incluidos. Este se remuestrea a partir de los valores de 0° a 360° en que se indica el tono como ángulo en sentido antihorario alrededor del cono de color. Los colores primarios y secundarios presentan los siguientes valores de tono: rojo = 0 (0°), amarillo = 40 (60°), verde = 80 (120°), cian = 120 (180°), azul = 160 (240°) y magenta = 201 (300°).\n",
    "\n",
    "• Saturación: especifica la intensidad de saturación establecida para el color. La saturación se indica como un entero del 0 al 255, ambos incluidos (que representan del 0 al 100%). La saturación de un color hace referencia a la medida en que se aleja de un color neutro como el gris o, dicho de un modo más sencillo, su colorido. Cuando la saturación es de 255, el color presenta una saturación máxima. Cuando el valor de la saturación es 0, el color es no saturado y parece gris (a menos que el valor sea 0 ó 255, en cuyo caso aparece negro o blanco).\n",
    "\n",
    "• Brillo: especifica la intensidad del blanco en el color. El valor se indica como un entero del 0 al 255, ambos incluidos (que representan del 0 al 100%). Un color con un valor establecido en 0 aparece negro. Un color con un valor establecido en 255 y una saturación de 0 aparece como blanco. Conversión al espacio de colores HSV En lugar de eso vamos a convertir los píxeles desde el espacio RGB al espacio HSV, en donde cada píxel se codifica también con tres valores, pero ahora con significado diferente: El canal H indica el tono (hue) del color (verde, rojo, azul, amarillo, etc). El tono es lo que tradicionalmente entendemos como \"color\". El canal S indica la saturación (saturation) de color Si un color es más saturado, es más \"puro\" Si es menos saturado, tiene más \"gris\" El canal V indica la luminosidad o intensidad (value) del pixel. V=0 indica un pixel negro V=1 indica un pixel blanco La función rgb_to_hsv del módulo matplotlib.colorsnos permite hacer justamente eso.\n",
    "\n",
    "¿Cómo se utiliza el HSV?\n",
    "El modelo de color HSV se utiliza cuando se seleccionan colores para pintura o tinta porque HSV representa mejor la forma en que las personas se relacionan con los colores que el modelo de color RGB.\n",
    "\n",
    "La rueda de color HSV también se utiliza para generar gráficos de alta calidad. Aunque menos conocido que sus primos RGB y CMYK, el enfoque HSV está disponible en muchos programas de software de edición de imágenes de gama alta.\n",
    "\n",
    "La selección de un color HSV comienza con la selección de uno de los tonos disponibles, que es la forma en que la mayoría de los seres humanos se relacionan con el color y, a continuación, el ajuste de los valores de sombra y brillo."
   ]
  }
 ],
 "metadata": {
  "kernelspec": {
   "display_name": "Python 3 (ipykernel)",
   "language": "python",
   "name": "python3"
  },
  "language_info": {
   "codemirror_mode": {
    "name": "ipython",
    "version": 3
   },
   "file_extension": ".py",
   "mimetype": "text/x-python",
   "name": "python",
   "nbconvert_exporter": "python",
   "pygments_lexer": "ipython3",
   "version": "3.9.12"
  }
 },
 "nbformat": 4,
 "nbformat_minor": 5
}
